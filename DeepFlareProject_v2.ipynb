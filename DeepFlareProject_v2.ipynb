{
  "nbformat": 4,
  "nbformat_minor": 0,
  "metadata": {
    "colab": {
      "name": "DeepFlareProject_v2.ipynb",
      "version": "0.3.2",
      "provenance": [],
      "collapsed_sections": []
    },
    "kernelspec": {
      "name": "python3",
      "display_name": "Python 3"
    },
    "accelerator": "GPU"
  },
  "cells": [
    {
      "metadata": {
        "id": "r014r4Y810CD",
        "colab_type": "code",
        "outputId": "d0d681b9-7ad5-4d92-d734-91ef1bed9427",
        "colab": {
          "base_uri": "https://localhost:8080/",
          "height": 52
        }
      },
      "cell_type": "code",
      "source": [
        "!pip install -U -q PyDrive"
      ],
      "execution_count": 0,
      "outputs": [
        {
          "output_type": "stream",
          "text": [
            "\u001b[?25l\r\u001b[K    1% |▎                               | 10kB 21.3MB/s eta 0:00:01\r\u001b[K    2% |▋                               | 20kB 5.1MB/s eta 0:00:01\r\u001b[K    3% |█                               | 30kB 7.2MB/s eta 0:00:01\r\u001b[K    4% |█▎                              | 40kB 4.5MB/s eta 0:00:01\r\u001b[K    5% |█▋                              | 51kB 5.5MB/s eta 0:00:01\r\u001b[K    6% |██                              | 61kB 6.4MB/s eta 0:00:01\r\u001b[K    7% |██▎                             | 71kB 7.3MB/s eta 0:00:01\r\u001b[K    8% |██▋                             | 81kB 8.1MB/s eta 0:00:01\r\u001b[K    9% |███                             | 92kB 9.0MB/s eta 0:00:01\r\u001b[K    10% |███▎                            | 102kB 7.2MB/s eta 0:00:01\r\u001b[K    11% |███▋                            | 112kB 7.2MB/s eta 0:00:01\r\u001b[K    12% |████                            | 122kB 9.5MB/s eta 0:00:01\r\u001b[K    13% |████▎                           | 133kB 9.4MB/s eta 0:00:01\r\u001b[K    14% |████▋                           | 143kB 16.2MB/s eta 0:00:01\r\u001b[K    15% |█████                           | 153kB 16.2MB/s eta 0:00:01\r\u001b[K    16% |█████▎                          | 163kB 16.0MB/s eta 0:00:01\r\u001b[K    17% |█████▋                          | 174kB 15.7MB/s eta 0:00:01\r\u001b[K    18% |██████                          | 184kB 15.8MB/s eta 0:00:01\r\u001b[K    19% |██████▎                         | 194kB 15.7MB/s eta 0:00:01\r\u001b[K    20% |██████▋                         | 204kB 36.9MB/s eta 0:00:01\r\u001b[K    21% |███████                         | 215kB 20.9MB/s eta 0:00:01\r\u001b[K    22% |███████▎                        | 225kB 21.0MB/s eta 0:00:01\r\u001b[K    23% |███████▋                        | 235kB 21.2MB/s eta 0:00:01\r\u001b[K    24% |████████                        | 245kB 21.1MB/s eta 0:00:01\r\u001b[K    25% |████████▎                       | 256kB 21.4MB/s eta 0:00:01\r\u001b[K    26% |████████▋                       | 266kB 20.4MB/s eta 0:00:01\r\u001b[K    27% |█████████                       | 276kB 21.5MB/s eta 0:00:01\r\u001b[K    29% |█████████▎                      | 286kB 21.5MB/s eta 0:00:01\r\u001b[K    30% |█████████▋                      | 296kB 21.7MB/s eta 0:00:01\r\u001b[K    31% |██████████                      | 307kB 22.5MB/s eta 0:00:01\r\u001b[K    32% |██████████▎                     | 317kB 44.0MB/s eta 0:00:01\r\u001b[K    33% |██████████▋                     | 327kB 44.1MB/s eta 0:00:01\r\u001b[K    34% |███████████                     | 337kB 46.9MB/s eta 0:00:01\r\u001b[K    35% |███████████▎                    | 348kB 44.6MB/s eta 0:00:01\r\u001b[K    36% |███████████▋                    | 358kB 44.2MB/s eta 0:00:01\r\u001b[K    37% |████████████                    | 368kB 50.2MB/s eta 0:00:01\r\u001b[K    38% |████████████▎                   | 378kB 49.9MB/s eta 0:00:01\r\u001b[K    39% |████████████▋                   | 389kB 50.2MB/s eta 0:00:01\r\u001b[K    40% |█████████████                   | 399kB 30.9MB/s eta 0:00:01\r\u001b[K    41% |█████████████▎                  | 409kB 30.2MB/s eta 0:00:01\r\u001b[K    42% |█████████████▋                  | 419kB 30.0MB/s eta 0:00:01\r\u001b[K    43% |██████████████                  | 430kB 30.1MB/s eta 0:00:01\r\u001b[K    44% |██████████████▎                 | 440kB 30.0MB/s eta 0:00:01\r\u001b[K    45% |██████████████▋                 | 450kB 30.6MB/s eta 0:00:01\r\u001b[K    46% |███████████████                 | 460kB 30.3MB/s eta 0:00:01\r\u001b[K    47% |███████████████▎                | 471kB 30.6MB/s eta 0:00:01\r\u001b[K    48% |███████████████▋                | 481kB 30.7MB/s eta 0:00:01\r\u001b[K    49% |████████████████                | 491kB 30.4MB/s eta 0:00:01\r\u001b[K    50% |████████████████▎               | 501kB 48.7MB/s eta 0:00:01\r\u001b[K    51% |████████████████▋               | 512kB 47.1MB/s eta 0:00:01\r\u001b[K    52% |█████████████████               | 522kB 48.8MB/s eta 0:00:01\r\u001b[K    53% |█████████████████▎              | 532kB 44.0MB/s eta 0:00:01\r\u001b[K    54% |█████████████████▋              | 542kB 42.9MB/s eta 0:00:01\r\u001b[K    55% |██████████████████              | 552kB 44.9MB/s eta 0:00:01\r\u001b[K    57% |██████████████████▎             | 563kB 45.1MB/s eta 0:00:01\r\u001b[K    58% |██████████████████▋             | 573kB 43.0MB/s eta 0:00:01\r\u001b[K    59% |███████████████████             | 583kB 41.8MB/s eta 0:00:01\r\u001b[K    60% |███████████████████▎            | 593kB 41.2MB/s eta 0:00:01\r\u001b[K    61% |███████████████████▋            | 604kB 41.0MB/s eta 0:00:01\r\u001b[K    62% |████████████████████            | 614kB 42.7MB/s eta 0:00:01\r\u001b[K    63% |████████████████████▎           | 624kB 38.4MB/s eta 0:00:01\r\u001b[K    64% |████████████████████▋           | 634kB 26.1MB/s eta 0:00:01\r\u001b[K    65% |█████████████████████           | 645kB 25.6MB/s eta 0:00:01\r\u001b[K    66% |█████████████████████▎          | 655kB 25.2MB/s eta 0:00:01\r\u001b[K    67% |█████████████████████▋          | 665kB 21.6MB/s eta 0:00:01\r\u001b[K    68% |██████████████████████          | 675kB 21.7MB/s eta 0:00:01\r\u001b[K    69% |██████████████████████▎         | 686kB 21.8MB/s eta 0:00:01\r\u001b[K    70% |██████████████████████▋         | 696kB 21.6MB/s eta 0:00:01\r\u001b[K    71% |███████████████████████         | 706kB 21.4MB/s eta 0:00:01\r\u001b[K    72% |███████████████████████▎        | 716kB 21.4MB/s eta 0:00:01\r\u001b[K    73% |███████████████████████▋        | 727kB 22.4MB/s eta 0:00:01\r\u001b[K    74% |████████████████████████        | 737kB 32.5MB/s eta 0:00:01\r\u001b[K    75% |████████████████████████▎       | 747kB 33.3MB/s eta 0:00:01\r\u001b[K    76% |████████████████████████▋       | 757kB 33.9MB/s eta 0:00:01\r\u001b[K    77% |████████████████████████▉       | 768kB 43.7MB/s eta 0:00:01\r\u001b[K    78% |█████████████████████████▏      | 778kB 43.9MB/s eta 0:00:01\r\u001b[K    79% |█████████████████████████▌      | 788kB 43.4MB/s eta 0:00:01\r\u001b[K    80% |█████████████████████████▉      | 798kB 45.4MB/s eta 0:00:01\r\u001b[K    81% |██████████████████████████▏     | 808kB 47.0MB/s eta 0:00:01\r\u001b[K    82% |██████████████████████████▌     | 819kB 47.9MB/s eta 0:00:01\r\u001b[K    83% |██████████████████████████▉     | 829kB 48.7MB/s eta 0:00:01\r\u001b[K    85% |███████████████████████████▏    | 839kB 50.2MB/s eta 0:00:01\r\u001b[K    86% |███████████████████████████▌    | 849kB 50.8MB/s eta 0:00:01\r\u001b[K    87% |███████████████████████████▉    | 860kB 47.4MB/s eta 0:00:01\r\u001b[K    88% |████████████████████████████▏   | 870kB 47.2MB/s eta 0:00:01\r\u001b[K    89% |████████████████████████████▌   | 880kB 48.8MB/s eta 0:00:01\r\u001b[K    90% |████████████████████████████▉   | 890kB 50.5MB/s eta 0:00:01\r\u001b[K    91% |█████████████████████████████▏  | 901kB 50.0MB/s eta 0:00:01\r\u001b[K    92% |█████████████████████████████▌  | 911kB 49.7MB/s eta 0:00:01\r\u001b[K    93% |█████████████████████████████▉  | 921kB 48.9MB/s eta 0:00:01\r\u001b[K    94% |██████████████████████████████▏ | 931kB 48.0MB/s eta 0:00:01\r\u001b[K    95% |██████████████████████████████▌ | 942kB 48.0MB/s eta 0:00:01\r\u001b[K    96% |██████████████████████████████▉ | 952kB 48.1MB/s eta 0:00:01\r\u001b[K    97% |███████████████████████████████▏| 962kB 53.7MB/s eta 0:00:01\r\u001b[K    98% |███████████████████████████████▌| 972kB 54.5MB/s eta 0:00:01\r\u001b[K    99% |███████████████████████████████▉| 983kB 53.1MB/s eta 0:00:01\r\u001b[K    100% |████████████████████████████████| 993kB 17.4MB/s \n",
            "\u001b[?25h  Building wheel for PyDrive (setup.py) ... \u001b[?25ldone\n",
            "\u001b[?25h"
          ],
          "name": "stdout"
        }
      ]
    },
    {
      "metadata": {
        "id": "pC3U-47p0W-Y",
        "colab_type": "code",
        "colab": {}
      },
      "cell_type": "code",
      "source": [
        "import glob\n",
        "import pickle\n",
        "import random\n",
        "\n",
        "import numpy as np\n",
        "from keras import Input, Model\n",
        "from keras.callbacks import ModelCheckpoint\n",
        "from keras.layers import ReLU, Conv2D, Add, MaxPooling2D, AveragePooling2D, Flatten, Dense, BatchNormalization\n",
        "from keras.optimizers import Adam\n",
        "from keras.utils import Sequence\n",
        "\n",
        "import zipfile\n",
        "from pydrive.auth import GoogleAuth\n",
        "from pydrive.drive import GoogleDrive\n",
        "from google.colab import auth\n",
        "from oauth2client.client import GoogleCredentials\n",
        "from google.colab import files"
      ],
      "execution_count": 0,
      "outputs": []
    },
    {
      "metadata": {
        "id": "wDgCfWxL13pa",
        "colab_type": "code",
        "colab": {}
      },
      "cell_type": "code",
      "source": [
        "data_set_id = \"1iBT5SDpPLU2F5NyPiktpK3r5bAxGdi92\""
      ],
      "execution_count": 0,
      "outputs": []
    },
    {
      "metadata": {
        "id": "W42eTtQ_19Sa",
        "colab_type": "code",
        "colab": {}
      },
      "cell_type": "code",
      "source": [
        "auth.authenticate_user()\n",
        "gauth = GoogleAuth()\n",
        "gauth.credentials = GoogleCredentials.get_application_default()\n",
        "drive = GoogleDrive(gauth)\n",
        "\n",
        "downloaded = drive.CreateFile({'id': data_set_id})\n",
        "downloaded.GetContentFile(\"data_set.zip\")\n",
        "\n",
        "zip_ref = zipfile.ZipFile(\"data_set.zip\", 'r')\n",
        "zip_ref.extractall(\"data_set\")\n",
        "zip_ref.close()"
      ],
      "execution_count": 0,
      "outputs": []
    },
    {
      "metadata": {
        "id": "4F5BILnr1Mnq",
        "colab_type": "code",
        "colab": {}
      },
      "cell_type": "code",
      "source": [
        "class ModelBuilder:\n",
        "\n",
        "    def createClassifier(self, shape, n_filters=64, embedded_model=None):\n",
        "        input_layer = Input(shape=shape)\n",
        "\n",
        "        x = Conv2D(n_filters, kernel_size=(7, 7), strides=2, padding=\"same\", activation=\"relu\")(input_layer)\n",
        "        x = MaxPooling2D(pool_size=2, padding=\"same\")(x)\n",
        "\n",
        "        if embedded_model is None:\n",
        "            embedded_model = self.createResBlocks(shape=(shape[0] / 4, shape[1] / 4, n_filters), n_filters=n_filters)\n",
        "        x = embedded_model(x)\n",
        "\n",
        "        x = AveragePooling2D(pool_size=2, padding=\"same\")(x)\n",
        "        x = Flatten()(x)\n",
        "        x = Dense(1, activation=\"sigmoid\")(x)\n",
        "\n",
        "        model = Model(inputs=input_layer, outputs=x)\n",
        "\n",
        "        return model, embedded_model\n",
        "\n",
        "    def createResBlocks(self, shape, n_filters):\n",
        "        input_layer = Input(shape=shape)\n",
        "        x = input_layer\n",
        "\n",
        "        for i in range(3):\n",
        "            x = self._resBlock(n_filters, x)\n",
        "\n",
        "        x = Conv2D(n_filters * 2, kernel_size=(1, 1), strides=2, padding=\"same\")(x)\n",
        "        for i in range(4):\n",
        "            x = self._resBlock(n_filters * 2, x)\n",
        "\n",
        "        x = Conv2D(n_filters * 4, kernel_size=(1, 1), strides=2, padding=\"same\")(x)\n",
        "        for i in range(6):\n",
        "            x = self._resBlock(n_filters * 4, x)\n",
        "\n",
        "        x = Conv2D(n_filters * 8, kernel_size=(1, 1), strides=2, padding=\"same\")(x)\n",
        "        for i in range(3):\n",
        "            x = self._resBlock(n_filters * 8, x)\n",
        "\n",
        "        model = Model(inputs=input_layer, outputs=x)\n",
        "        return model\n",
        "\n",
        "    def _resBlock(self, n_filters, input_layer, kernel_size=(3, 3)):\n",
        "        x = BatchNormalization()(input_layer)\n",
        "        x = ReLU()(x)\n",
        "        x = Conv2D(n_filters, kernel_size=kernel_size, padding=\"same\")(x)\n",
        "        x = BatchNormalization()(x)\n",
        "        x = ReLU()(x)\n",
        "        x = Conv2D(n_filters, kernel_size=kernel_size, padding=\"same\")(x)\n",
        "        x = Add()([input_layer, x])\n",
        "        return x"
      ],
      "execution_count": 0,
      "outputs": []
    },
    {
      "metadata": {
        "id": "IkARmaV51V2h",
        "colab_type": "code",
        "colab": {}
      },
      "cell_type": "code",
      "source": [
        "class DataGenerator(Sequence):\n",
        "\n",
        "    # negative split to take from end\n",
        "    def __init__(self, batch_size=50, feature_path=\"data_set/converted_data_set/\", flip_prob=0.2, split=1):\n",
        "        self.feature_path = feature_path\n",
        "        self.batch_size = batch_size\n",
        "        self.data_paths = self._loadFileList()\n",
        "        random.shuffle(self.data_paths)\n",
        "\n",
        "        if split > 0:\n",
        "            self.data_paths = self.data_paths[:int(len(self.data_paths) * split)]\n",
        "        else:\n",
        "            self.data_paths = self.data_paths[int(len(self.data_paths) * split):]\n",
        "        print(\"Using {} samples\".format(len(self.data_paths)))\n",
        "        self.flip_prob = flip_prob\n",
        "\n",
        "    def __len__(self):\n",
        "        return int(np.floor(len(self.data_paths) / float(self.batch_size)))\n",
        "\n",
        "    def __getitem__(self, idx):\n",
        "        paths = self.data_paths[idx * self.batch_size:(idx + 1) * self.batch_size]\n",
        "        batch = [pickle.load(open(p, \"rb\")) for p in paths]\n",
        "        batch_y, batch_x = list(map(list, zip(*batch)))\n",
        "        batch_y = np.array(batch_y)\n",
        "        batch_x = np.array(batch_x)\n",
        "\n",
        "        # random flip\n",
        "        for i in range(self.batch_size):\n",
        "            if random.random() < self.flip_prob:\n",
        "                batch_x[i] = np.flip(batch_x[i], axis=0)\n",
        "            if random.random() < self.flip_prob:\n",
        "                batch_x[i] = np.flip(batch_x[i], axis=1)\n",
        "\n",
        "        return batch_x, batch_y\n",
        "\n",
        "    def _loadFileList(self):\n",
        "        features = glob.glob(self.feature_path + \"*.pickle\")\n",
        "        return features"
      ],
      "execution_count": 0,
      "outputs": []
    },
    {
      "metadata": {
        "id": "wFCObnWJ3RSY",
        "colab_type": "code",
        "outputId": "a096799f-38d2-458a-e607-646f2a558b97",
        "colab": {
          "base_uri": "https://localhost:8080/",
          "height": 381
        }
      },
      "cell_type": "code",
      "source": [
        "model, embedded_model = ModelBuilder().createClassifier((256, 256, 1), 64)\n",
        "model.summary()"
      ],
      "execution_count": 0,
      "outputs": [
        {
          "output_type": "stream",
          "text": [
            "_________________________________________________________________\n",
            "Layer (type)                 Output Shape              Param #   \n",
            "=================================================================\n",
            "input_19 (InputLayer)        (None, 256, 256, 1)       0         \n",
            "_________________________________________________________________\n",
            "conv2d_290 (Conv2D)          (None, 128, 128, 64)      3200      \n",
            "_________________________________________________________________\n",
            "max_pooling2d_10 (MaxPooling (None, 64, 64, 64)        0         \n",
            "_________________________________________________________________\n",
            "model_17 (Model)             multiple                  22845184  \n",
            "_________________________________________________________________\n",
            "average_pooling2d_9 (Average (None, 4, 4, 512)         0         \n",
            "_________________________________________________________________\n",
            "flatten_9 (Flatten)          (None, 8192)              0         \n",
            "_________________________________________________________________\n",
            "dense_9 (Dense)              (None, 1)                 8193      \n",
            "=================================================================\n",
            "Total params: 22,856,577\n",
            "Trainable params: 22,841,473\n",
            "Non-trainable params: 15,104\n",
            "_________________________________________________________________\n"
          ],
          "name": "stdout"
        }
      ]
    },
    {
      "metadata": {
        "id": "KJOTIX473WXC",
        "colab_type": "code",
        "outputId": "7b49e136-52c4-4a43-c824-9f462183cb49",
        "colab": {
          "base_uri": "https://localhost:8080/",
          "height": 35
        }
      },
      "cell_type": "code",
      "source": [
        "data_generator = DataGenerator(split=1)\n",
        "model_callback = ModelCheckpoint(\"fl_model.h5\", save_best_only=True)\n",
        "\n",
        "optimizer = Adam(lr=0.00001, decay=1e-5)\n",
        "model.compile(optimizer=optimizer, loss=\"binary_crossentropy\", metrics=[\"accuracy\"])"
      ],
      "execution_count": 0,
      "outputs": [
        {
          "output_type": "stream",
          "text": [
            "Using 999 samples\n"
          ],
          "name": "stdout"
        }
      ]
    },
    {
      "metadata": {
        "id": "kLXqC7cS1jRr",
        "colab_type": "code",
        "outputId": "f5bd2089-8d31-45fe-8fe3-4c383dcb7288",
        "colab": {
          "base_uri": "https://localhost:8080/",
          "height": 1369
        }
      },
      "cell_type": "code",
      "source": [
        "model.fit_generator(data_generator, epochs=100)"
      ],
      "execution_count": 0,
      "outputs": [
        {
          "output_type": "stream",
          "text": [
            "Epoch 1/100\n",
            "19/19 [==============================] - 14s 729ms/step - loss: 0.0848 - acc: 0.9842\n",
            "Epoch 2/100\n",
            "19/19 [==============================] - 14s 722ms/step - loss: 0.0835 - acc: 0.9853\n",
            "Epoch 3/100\n",
            "19/19 [==============================] - 14s 724ms/step - loss: 0.0800 - acc: 0.9853\n",
            "Epoch 4/100\n",
            "19/19 [==============================] - 14s 726ms/step - loss: 0.0702 - acc: 0.9937\n",
            "Epoch 5/100\n",
            "19/19 [==============================] - 14s 729ms/step - loss: 0.0718 - acc: 0.9832\n",
            "Epoch 6/100\n",
            "19/19 [==============================] - 14s 728ms/step - loss: 0.0613 - acc: 0.9905\n",
            "Epoch 7/100\n",
            "19/19 [==============================] - 14s 725ms/step - loss: 0.0621 - acc: 0.9926\n",
            "Epoch 8/100\n",
            "19/19 [==============================] - 14s 726ms/step - loss: 0.0544 - acc: 0.9916\n",
            "Epoch 9/100\n",
            "19/19 [==============================] - 14s 727ms/step - loss: 0.0525 - acc: 0.9905\n",
            "Epoch 10/100\n",
            "19/19 [==============================] - 14s 726ms/step - loss: 0.0504 - acc: 0.9895\n",
            "Epoch 11/100\n",
            "19/19 [==============================] - 14s 726ms/step - loss: 0.0446 - acc: 0.9947\n",
            "Epoch 12/100\n",
            "19/19 [==============================] - 14s 727ms/step - loss: 0.0407 - acc: 0.9968\n",
            "Epoch 13/100\n",
            "19/19 [==============================] - 14s 727ms/step - loss: 0.0390 - acc: 0.9937\n",
            "Epoch 14/100\n",
            "19/19 [==============================] - 14s 726ms/step - loss: 0.0357 - acc: 0.9937\n",
            "Epoch 15/100\n",
            "19/19 [==============================] - 14s 727ms/step - loss: 0.0379 - acc: 0.9937\n",
            "Epoch 16/100\n",
            "19/19 [==============================] - 14s 726ms/step - loss: 0.0444 - acc: 0.9916\n",
            "Epoch 17/100\n",
            "19/19 [==============================] - 14s 725ms/step - loss: 0.0308 - acc: 0.9989\n",
            "Epoch 18/100\n",
            "19/19 [==============================] - 14s 728ms/step - loss: 0.0284 - acc: 0.9979\n",
            "Epoch 19/100\n",
            "19/19 [==============================] - 14s 727ms/step - loss: 0.0325 - acc: 0.9926\n",
            "Epoch 20/100\n",
            "19/19 [==============================] - 14s 727ms/step - loss: 0.0332 - acc: 0.9937\n",
            "Epoch 21/100\n",
            "19/19 [==============================] - 14s 728ms/step - loss: 0.0262 - acc: 0.9958\n",
            "Epoch 22/100\n",
            "19/19 [==============================] - 14s 727ms/step - loss: 0.0262 - acc: 0.9958\n",
            "Epoch 23/100\n",
            "19/19 [==============================] - 14s 727ms/step - loss: 0.0212 - acc: 0.9968\n",
            "Epoch 24/100\n",
            "19/19 [==============================] - 14s 726ms/step - loss: 0.0261 - acc: 0.9958\n",
            "Epoch 25/100\n",
            "19/19 [==============================] - 14s 729ms/step - loss: 0.0255 - acc: 0.9958\n",
            "Epoch 26/100\n",
            "19/19 [==============================] - 14s 726ms/step - loss: 0.0250 - acc: 0.9958\n",
            "Epoch 27/100\n",
            "19/19 [==============================] - 14s 727ms/step - loss: 0.0261 - acc: 0.9968\n",
            "Epoch 28/100\n",
            "19/19 [==============================] - 14s 727ms/step - loss: 0.0228 - acc: 0.9979\n",
            "Epoch 29/100\n",
            "19/19 [==============================] - 14s 727ms/step - loss: 0.0165 - acc: 0.9989\n",
            "Epoch 30/100\n",
            "19/19 [==============================] - 14s 727ms/step - loss: 0.0199 - acc: 0.9979\n",
            "Epoch 31/100\n",
            "19/19 [==============================] - 14s 729ms/step - loss: 0.0160 - acc: 0.9989\n",
            "Epoch 32/100\n",
            "19/19 [==============================] - 14s 729ms/step - loss: 0.0129 - acc: 0.9968\n",
            "Epoch 33/100\n",
            "19/19 [==============================] - 14s 728ms/step - loss: 0.0225 - acc: 0.9979\n",
            "Epoch 34/100\n",
            "19/19 [==============================] - 14s 729ms/step - loss: 0.0192 - acc: 0.9968\n",
            "Epoch 35/100\n",
            "19/19 [==============================] - 14s 729ms/step - loss: 0.0152 - acc: 0.9979\n",
            "Epoch 36/100\n",
            "19/19 [==============================] - 14s 729ms/step - loss: 0.0138 - acc: 0.9968\n",
            "Epoch 37/100\n",
            "19/19 [==============================] - 14s 728ms/step - loss: 0.0139 - acc: 0.9989\n",
            "Epoch 38/100\n",
            "19/19 [==============================] - 14s 729ms/step - loss: 0.0141 - acc: 0.9979\n",
            "Epoch 39/100\n",
            "15/19 [======================>.......] - ETA: 2s - loss: 0.0117 - acc: 0.9973"
          ],
          "name": "stdout"
        }
      ]
    },
    {
      "metadata": {
        "id": "1Gl4-Y-_2Pkk",
        "colab_type": "code",
        "colab": {}
      },
      "cell_type": "code",
      "source": [
        ""
      ],
      "execution_count": 0,
      "outputs": []
    }
  ]
}